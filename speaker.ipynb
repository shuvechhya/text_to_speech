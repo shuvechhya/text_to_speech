{
 "cells": [
  {
   "cell_type": "code",
   "execution_count": 1,
   "id": "bc9d9349",
   "metadata": {},
   "outputs": [],
   "source": [
    "import os\n",
    "import tkinter as tk\n",
    "import subprocess\n",
    "import pyttsx3"
   ]
  },
  {
   "cell_type": "code",
   "execution_count": 44,
   "id": "0108908b",
   "metadata": {},
   "outputs": [],
   "source": [
    "\n",
    "def say_something():\n",
    "    text = entry.get()\n",
    "    engine = pyttsx3.init()\n",
    "    engine.say(text)\n",
    "    engine.runAndWait()\n",
    "\n",
    "if __name__ == '__main__':\n",
    "    root = tk.Tk()\n",
    "    root.title(\"Text-to-Speech\")\n",
    "    upper_frame = tk.Frame(root, bg='#14A7DD', width=13000, height=130)\n",
    "    upper_frame.place(x=0, y=0)\n",
    "    \n",
    "    label = tk.Label(upper_frame, text='ROBOT SPEAKER', font='TimesNewRoman 40 bold', bg='#14A7DD', fg='white')\n",
    "    label.place(x=400,y=50)\n",
    "    \n",
    "    root.configure(bg='#F0F8FF')\n",
    "\n",
    "    label = tk.Label(root, text=\"Enter what you want to say:\", bg='#4CAF50', fg='white',\n",
    "                       font=('Helvetica', 14, 'bold'), relief=tk.RAISED, bd=3,anchor=\"center\", justify=\"center\")\n",
    "    label.pack(pady=10)\n",
    "    label.place(x=500,y=250)\n",
    "\n",
    "    entry = tk.Entry(root, width=90,justify=\"center\")\n",
    "    entry.pack(pady=10)\n",
    "    entry.place(x=350,y=300)\n",
    "\n",
    "    button = tk.Button(root, text=\"Say it!\", command=say_something, bg='#4CAF50', fg='white',\n",
    "                       font=('Helvetica', 14, 'bold'), relief=tk.RAISED, bd=3)\n",
    "    button.pack(pady=20)\n",
    "    button.place(x=600,y=350)\n",
    "\n",
    "    root.mainloop()\n",
    "\n",
    "\n"
   ]
  },
  {
   "cell_type": "code",
   "execution_count": null,
   "id": "7d210a1f",
   "metadata": {},
   "outputs": [],
   "source": []
  },
  {
   "cell_type": "code",
   "execution_count": null,
   "id": "0f806473",
   "metadata": {},
   "outputs": [],
   "source": []
  },
  {
   "cell_type": "code",
   "execution_count": null,
   "id": "bebe403b",
   "metadata": {},
   "outputs": [],
   "source": []
  }
 ],
 "metadata": {
  "kernelspec": {
   "display_name": "Python 3 (ipykernel)",
   "language": "python",
   "name": "python3"
  },
  "language_info": {
   "codemirror_mode": {
    "name": "ipython",
    "version": 3
   },
   "file_extension": ".py",
   "mimetype": "text/x-python",
   "name": "python",
   "nbconvert_exporter": "python",
   "pygments_lexer": "ipython3",
   "version": "3.10.9"
  }
 },
 "nbformat": 4,
 "nbformat_minor": 5
}
